{
 "cells": [
  {
   "cell_type": "markdown",
   "id": "acade126",
   "metadata": {},
   "source": [
    "# Parinay Seth (20BAI10252) Randomwalk Data Science Assessment Level 3 "
   ]
  },
  {
   "cell_type": "markdown",
   "id": "504a573d",
   "metadata": {},
   "source": [
    "## Importing Necessary Libraries "
   ]
  },
  {
   "cell_type": "code",
   "execution_count": 2,
   "id": "98292220",
   "metadata": {},
   "outputs": [],
   "source": [
    "import pandas as pd\n",
    "import matplotlib.pyplot as plt\n",
    "import seaborn as sns"
   ]
  },
  {
   "cell_type": "markdown",
   "id": "cbebaf9f",
   "metadata": {},
   "source": [
    "## Loading the Datasets"
   ]
  },
  {
   "cell_type": "code",
   "execution_count": 3,
   "id": "d480fcc8",
   "metadata": {},
   "outputs": [],
   "source": [
    "books = pd.read_csv('books.csv')\n",
    "book_tags = pd.read_csv('book_tags.csv')\n",
    "ratings = pd.read_csv('ratings.csv')\n"
   ]
  },
  {
   "cell_type": "markdown",
   "id": "c144b7c2",
   "metadata": {},
   "source": [
    "# Doing Sample check for all the datasets printing 5 rows "
   ]
  },
  {
   "cell_type": "code",
   "execution_count": 4,
   "id": "79fa3bfd",
   "metadata": {},
   "outputs": [
    {
     "data": {
      "text/html": [
       "<div>\n",
       "<style scoped>\n",
       "    .dataframe tbody tr th:only-of-type {\n",
       "        vertical-align: middle;\n",
       "    }\n",
       "\n",
       "    .dataframe tbody tr th {\n",
       "        vertical-align: top;\n",
       "    }\n",
       "\n",
       "    .dataframe thead th {\n",
       "        text-align: right;\n",
       "    }\n",
       "</style>\n",
       "<table border=\"1\" class=\"dataframe\">\n",
       "  <thead>\n",
       "    <tr style=\"text-align: right;\">\n",
       "      <th></th>\n",
       "      <th>book_id</th>\n",
       "      <th>goodreads_book_id</th>\n",
       "      <th>best_book_id</th>\n",
       "      <th>work_id</th>\n",
       "      <th>books_count</th>\n",
       "      <th>isbn</th>\n",
       "      <th>isbn13</th>\n",
       "      <th>authors</th>\n",
       "      <th>original_publication_year</th>\n",
       "      <th>original_title</th>\n",
       "      <th>...</th>\n",
       "      <th>work_ratings_count</th>\n",
       "      <th>work_text_reviews_count</th>\n",
       "      <th>ratings_1</th>\n",
       "      <th>ratings_2</th>\n",
       "      <th>ratings_3</th>\n",
       "      <th>ratings_4</th>\n",
       "      <th>ratings_5</th>\n",
       "      <th>image_url</th>\n",
       "      <th>small_image_url</th>\n",
       "      <th>NonEnglish</th>\n",
       "    </tr>\n",
       "  </thead>\n",
       "  <tbody>\n",
       "    <tr>\n",
       "      <th>76</th>\n",
       "      <td>1524</td>\n",
       "      <td>27161156</td>\n",
       "      <td>27161156</td>\n",
       "      <td>47200486</td>\n",
       "      <td>30</td>\n",
       "      <td>62300547</td>\n",
       "      <td>9.780062e+12</td>\n",
       "      <td>J.D. Vance</td>\n",
       "      <td>2016.0</td>\n",
       "      <td>Hillbilly Elegy. A Memoir of a Family and Cult...</td>\n",
       "      <td>...</td>\n",
       "      <td>105770</td>\n",
       "      <td>13146</td>\n",
       "      <td>1429</td>\n",
       "      <td>4680</td>\n",
       "      <td>21299</td>\n",
       "      <td>44927</td>\n",
       "      <td>33435</td>\n",
       "      <td>https://images.gr-assets.com/books/1463569814m...</td>\n",
       "      <td>https://images.gr-assets.com/books/1463569814s...</td>\n",
       "      <td>0</td>\n",
       "    </tr>\n",
       "    <tr>\n",
       "      <th>230</th>\n",
       "      <td>5154</td>\n",
       "      <td>6952423</td>\n",
       "      <td>6952423</td>\n",
       "      <td>7187129</td>\n",
       "      <td>39</td>\n",
       "      <td>446569895</td>\n",
       "      <td>9.780447e+12</td>\n",
       "      <td>Ozzy Osbourne, Chris Ayres</td>\n",
       "      <td>2009.0</td>\n",
       "      <td>I Am Ozzy</td>\n",
       "      <td>...</td>\n",
       "      <td>17959</td>\n",
       "      <td>1028</td>\n",
       "      <td>509</td>\n",
       "      <td>847</td>\n",
       "      <td>3207</td>\n",
       "      <td>5998</td>\n",
       "      <td>7398</td>\n",
       "      <td>https://s.gr-assets.com/assets/nophoto/book/11...</td>\n",
       "      <td>https://s.gr-assets.com/assets/nophoto/book/50...</td>\n",
       "      <td>0</td>\n",
       "    </tr>\n",
       "    <tr>\n",
       "      <th>66</th>\n",
       "      <td>1234</td>\n",
       "      <td>67920</td>\n",
       "      <td>67920</td>\n",
       "      <td>2912372</td>\n",
       "      <td>36</td>\n",
       "      <td>446359408</td>\n",
       "      <td>9.780446e+12</td>\n",
       "      <td>Flora Rheta Schreiber</td>\n",
       "      <td>1973.0</td>\n",
       "      <td>Sybil</td>\n",
       "      <td>...</td>\n",
       "      <td>73855</td>\n",
       "      <td>1271</td>\n",
       "      <td>1086</td>\n",
       "      <td>3345</td>\n",
       "      <td>16767</td>\n",
       "      <td>26328</td>\n",
       "      <td>26329</td>\n",
       "      <td>https://s.gr-assets.com/assets/nophoto/book/11...</td>\n",
       "      <td>https://s.gr-assets.com/assets/nophoto/book/50...</td>\n",
       "      <td>0</td>\n",
       "    </tr>\n",
       "    <tr>\n",
       "      <th>60</th>\n",
       "      <td>1068</td>\n",
       "      <td>29209</td>\n",
       "      <td>29209</td>\n",
       "      <td>29679</td>\n",
       "      <td>62</td>\n",
       "      <td>1573225789</td>\n",
       "      <td>9.781573e+12</td>\n",
       "      <td>James McBride</td>\n",
       "      <td>1996.0</td>\n",
       "      <td>The Color of Water: A Black Man's Tribute to H...</td>\n",
       "      <td>...</td>\n",
       "      <td>83888</td>\n",
       "      <td>4174</td>\n",
       "      <td>1206</td>\n",
       "      <td>3218</td>\n",
       "      <td>15996</td>\n",
       "      <td>32338</td>\n",
       "      <td>31130</td>\n",
       "      <td>https://images.gr-assets.com/books/1401311300m...</td>\n",
       "      <td>https://images.gr-assets.com/books/1401311300s...</td>\n",
       "      <td>0</td>\n",
       "    </tr>\n",
       "    <tr>\n",
       "      <th>246</th>\n",
       "      <td>5603</td>\n",
       "      <td>13331184</td>\n",
       "      <td>13331184</td>\n",
       "      <td>18538886</td>\n",
       "      <td>15</td>\n",
       "      <td>385535635</td>\n",
       "      <td>9.780386e+12</td>\n",
       "      <td>Jacob Tomsky</td>\n",
       "      <td>2012.0</td>\n",
       "      <td>Heads in Beds: A Reckless Memoir of Hotels, Hu...</td>\n",
       "      <td>...</td>\n",
       "      <td>17744</td>\n",
       "      <td>2463</td>\n",
       "      <td>596</td>\n",
       "      <td>1836</td>\n",
       "      <td>5894</td>\n",
       "      <td>6199</td>\n",
       "      <td>3219</td>\n",
       "      <td>https://images.gr-assets.com/books/1348186171m...</td>\n",
       "      <td>https://images.gr-assets.com/books/1348186171s...</td>\n",
       "      <td>0</td>\n",
       "    </tr>\n",
       "  </tbody>\n",
       "</table>\n",
       "<p>5 rows × 24 columns</p>\n",
       "</div>"
      ],
      "text/plain": [
       "     book_id  goodreads_book_id  best_book_id   work_id  books_count  \\\n",
       "76      1524           27161156      27161156  47200486           30   \n",
       "230     5154            6952423       6952423   7187129           39   \n",
       "66      1234              67920         67920   2912372           36   \n",
       "60      1068              29209         29209     29679           62   \n",
       "246     5603           13331184      13331184  18538886           15   \n",
       "\n",
       "           isbn        isbn13                     authors  \\\n",
       "76     62300547  9.780062e+12                  J.D. Vance   \n",
       "230   446569895  9.780447e+12  Ozzy Osbourne, Chris Ayres   \n",
       "66    446359408  9.780446e+12       Flora Rheta Schreiber   \n",
       "60   1573225789  9.781573e+12               James McBride   \n",
       "246   385535635  9.780386e+12                Jacob Tomsky   \n",
       "\n",
       "     original_publication_year  \\\n",
       "76                      2016.0   \n",
       "230                     2009.0   \n",
       "66                      1973.0   \n",
       "60                      1996.0   \n",
       "246                     2012.0   \n",
       "\n",
       "                                        original_title  ...  \\\n",
       "76   Hillbilly Elegy. A Memoir of a Family and Cult...  ...   \n",
       "230                                          I Am Ozzy  ...   \n",
       "66                                               Sybil  ...   \n",
       "60   The Color of Water: A Black Man's Tribute to H...  ...   \n",
       "246  Heads in Beds: A Reckless Memoir of Hotels, Hu...  ...   \n",
       "\n",
       "    work_ratings_count work_text_reviews_count  ratings_1  ratings_2  \\\n",
       "76              105770                   13146       1429       4680   \n",
       "230              17959                    1028        509        847   \n",
       "66               73855                    1271       1086       3345   \n",
       "60               83888                    4174       1206       3218   \n",
       "246              17744                    2463        596       1836   \n",
       "\n",
       "     ratings_3  ratings_4  ratings_5  \\\n",
       "76       21299      44927      33435   \n",
       "230       3207       5998       7398   \n",
       "66       16767      26328      26329   \n",
       "60       15996      32338      31130   \n",
       "246       5894       6199       3219   \n",
       "\n",
       "                                             image_url  \\\n",
       "76   https://images.gr-assets.com/books/1463569814m...   \n",
       "230  https://s.gr-assets.com/assets/nophoto/book/11...   \n",
       "66   https://s.gr-assets.com/assets/nophoto/book/11...   \n",
       "60   https://images.gr-assets.com/books/1401311300m...   \n",
       "246  https://images.gr-assets.com/books/1348186171m...   \n",
       "\n",
       "                                       small_image_url  NonEnglish  \n",
       "76   https://images.gr-assets.com/books/1463569814s...           0  \n",
       "230  https://s.gr-assets.com/assets/nophoto/book/50...           0  \n",
       "66   https://s.gr-assets.com/assets/nophoto/book/50...           0  \n",
       "60   https://images.gr-assets.com/books/1401311300s...           0  \n",
       "246  https://images.gr-assets.com/books/1348186171s...           0  \n",
       "\n",
       "[5 rows x 24 columns]"
      ]
     },
     "execution_count": 4,
     "metadata": {},
     "output_type": "execute_result"
    }
   ],
   "source": [
    "books.sample(5)"
   ]
  },
  {
   "cell_type": "code",
   "execution_count": 5,
   "id": "dca2a8e1",
   "metadata": {},
   "outputs": [
    {
     "data": {
      "text/html": [
       "<div>\n",
       "<style scoped>\n",
       "    .dataframe tbody tr th:only-of-type {\n",
       "        vertical-align: middle;\n",
       "    }\n",
       "\n",
       "    .dataframe tbody tr th {\n",
       "        vertical-align: top;\n",
       "    }\n",
       "\n",
       "    .dataframe thead th {\n",
       "        text-align: right;\n",
       "    }\n",
       "</style>\n",
       "<table border=\"1\" class=\"dataframe\">\n",
       "  <thead>\n",
       "    <tr style=\"text-align: right;\">\n",
       "      <th></th>\n",
       "      <th>goodreads_book_id</th>\n",
       "      <th>tag_id</th>\n",
       "      <th>count</th>\n",
       "    </tr>\n",
       "  </thead>\n",
       "  <tbody>\n",
       "    <tr>\n",
       "      <th>25295</th>\n",
       "      <td>6366437</td>\n",
       "      <td>25506</td>\n",
       "      <td>15</td>\n",
       "    </tr>\n",
       "    <tr>\n",
       "      <th>22737</th>\n",
       "      <td>1432370</td>\n",
       "      <td>4959</td>\n",
       "      <td>9</td>\n",
       "    </tr>\n",
       "    <tr>\n",
       "      <th>20333</th>\n",
       "      <td>561909</td>\n",
       "      <td>28341</td>\n",
       "      <td>79</td>\n",
       "    </tr>\n",
       "    <tr>\n",
       "      <th>29947</th>\n",
       "      <td>11330361</td>\n",
       "      <td>4600</td>\n",
       "      <td>23</td>\n",
       "    </tr>\n",
       "    <tr>\n",
       "      <th>37085</th>\n",
       "      <td>22716447</td>\n",
       "      <td>14719</td>\n",
       "      <td>25</td>\n",
       "    </tr>\n",
       "  </tbody>\n",
       "</table>\n",
       "</div>"
      ],
      "text/plain": [
       "       goodreads_book_id  tag_id  count\n",
       "25295            6366437   25506     15\n",
       "22737            1432370    4959      9\n",
       "20333             561909   28341     79\n",
       "29947           11330361    4600     23\n",
       "37085           22716447   14719     25"
      ]
     },
     "execution_count": 5,
     "metadata": {},
     "output_type": "execute_result"
    }
   ],
   "source": [
    "book_tags.sample(5)"
   ]
  },
  {
   "cell_type": "code",
   "execution_count": 6,
   "id": "02b5d7e8",
   "metadata": {},
   "outputs": [
    {
     "data": {
      "text/html": [
       "<div>\n",
       "<style scoped>\n",
       "    .dataframe tbody tr th:only-of-type {\n",
       "        vertical-align: middle;\n",
       "    }\n",
       "\n",
       "    .dataframe tbody tr th {\n",
       "        vertical-align: top;\n",
       "    }\n",
       "\n",
       "    .dataframe thead th {\n",
       "        text-align: right;\n",
       "    }\n",
       "</style>\n",
       "<table border=\"1\" class=\"dataframe\">\n",
       "  <thead>\n",
       "    <tr style=\"text-align: right;\">\n",
       "      <th></th>\n",
       "      <th>user_id</th>\n",
       "      <th>book_id</th>\n",
       "      <th>rating</th>\n",
       "    </tr>\n",
       "  </thead>\n",
       "  <tbody>\n",
       "    <tr>\n",
       "      <th>220997</th>\n",
       "      <td>1360</td>\n",
       "      <td>8105</td>\n",
       "      <td>2</td>\n",
       "    </tr>\n",
       "    <tr>\n",
       "      <th>51950</th>\n",
       "      <td>17762</td>\n",
       "      <td>2233</td>\n",
       "      <td>5</td>\n",
       "    </tr>\n",
       "    <tr>\n",
       "      <th>189205</th>\n",
       "      <td>40320</td>\n",
       "      <td>372</td>\n",
       "      <td>3</td>\n",
       "    </tr>\n",
       "    <tr>\n",
       "      <th>197843</th>\n",
       "      <td>51994</td>\n",
       "      <td>15</td>\n",
       "      <td>4</td>\n",
       "    </tr>\n",
       "    <tr>\n",
       "      <th>92283</th>\n",
       "      <td>28449</td>\n",
       "      <td>128</td>\n",
       "      <td>4</td>\n",
       "    </tr>\n",
       "  </tbody>\n",
       "</table>\n",
       "</div>"
      ],
      "text/plain": [
       "        user_id  book_id  rating\n",
       "220997     1360     8105       2\n",
       "51950     17762     2233       5\n",
       "189205    40320      372       3\n",
       "197843    51994       15       4\n",
       "92283     28449      128       4"
      ]
     },
     "execution_count": 6,
     "metadata": {},
     "output_type": "execute_result"
    }
   ],
   "source": [
    "ratings.sample(5)"
   ]
  },
  {
   "cell_type": "markdown",
   "id": "895c566b",
   "metadata": {},
   "source": [
    "## Some basic NULL Values check in all datasets "
   ]
  },
  {
   "cell_type": "code",
   "execution_count": 25,
   "id": "8689424b",
   "metadata": {},
   "outputs": [
    {
     "data": {
      "text/plain": [
       "book_id                       0\n",
       "goodreads_book_id             0\n",
       "best_book_id                  0\n",
       "work_id                       0\n",
       "books_count                   0\n",
       "isbn                          9\n",
       "isbn13                        8\n",
       "authors                       0\n",
       "original_publication_year     0\n",
       "original_title                0\n",
       "title                         0\n",
       "language_code                35\n",
       "average_rating                0\n",
       "ratings_count                 0\n",
       "work_ratings_count            0\n",
       "work_text_reviews_count       0\n",
       "ratings_1                     0\n",
       "ratings_2                     0\n",
       "ratings_3                     0\n",
       "ratings_4                     0\n",
       "ratings_5                     0\n",
       "image_url                     0\n",
       "small_image_url               0\n",
       "NonEnglish                    0\n",
       "dtype: int64"
      ]
     },
     "execution_count": 25,
     "metadata": {},
     "output_type": "execute_result"
    }
   ],
   "source": [
    "books.isnull().sum()"
   ]
  },
  {
   "cell_type": "code",
   "execution_count": 26,
   "id": "da0f7bbc",
   "metadata": {},
   "outputs": [
    {
     "data": {
      "text/plain": [
       "goodreads_book_id    0\n",
       "tag_id               0\n",
       "count                0\n",
       "dtype: int64"
      ]
     },
     "execution_count": 26,
     "metadata": {},
     "output_type": "execute_result"
    }
   ],
   "source": [
    "book_tags.isnull().sum()"
   ]
  },
  {
   "cell_type": "code",
   "execution_count": 27,
   "id": "2ef94a20",
   "metadata": {},
   "outputs": [
    {
     "data": {
      "text/plain": [
       "user_id    0\n",
       "book_id    0\n",
       "rating     0\n",
       "dtype: int64"
      ]
     },
     "execution_count": 27,
     "metadata": {},
     "output_type": "execute_result"
    }
   ],
   "source": [
    "ratings.isnull().sum()"
   ]
  },
  {
   "cell_type": "markdown",
   "id": "d2c66a91",
   "metadata": {},
   "source": [
    "## Q1: How many books do not have an original title [books.csv]?"
   ]
  },
  {
   "cell_type": "code",
   "execution_count": 7,
   "id": "b289b38a",
   "metadata": {},
   "outputs": [
    {
     "name": "stdout",
     "output_type": "stream",
     "text": [
      "The number of books without an original title: 36\n"
     ]
    }
   ],
   "source": [
    "# First Counting the  of number of books without an original title\n",
    "books_without_original_title = books['original_title'].isnull().sum()\n",
    "\n",
    "# Print the result\n",
    "print(f\"The number of books without an original title: {books_without_original_title}\")"
   ]
  },
  {
   "cell_type": "markdown",
   "id": "3da2b7c2",
   "metadata": {},
   "source": [
    "## Q2: How many unique books are present in the dataset ? Evaluate based on the 'book_id' after removing records containing null values for original_title column in [books.csv] and corresponding records in [book_tags.csv] and [ratings.csv]"
   ]
  },
  {
   "cell_type": "code",
   "execution_count": 8,
   "id": "33619561",
   "metadata": {},
   "outputs": [],
   "source": [
    "# Firstly removing the records with null values for 'original_title' in 'books.csv'\n",
    "books = books.dropna(subset=['original_title'])\n"
   ]
  },
  {
   "cell_type": "code",
   "execution_count": 9,
   "id": "f0e618be",
   "metadata": {},
   "outputs": [],
   "source": [
    "# Now removing corresponding records in 'book_tags.csv' and 'ratings.csv'\n",
    "book_tags = book_tags[book_tags['goodreads_book_id'].isin(books['book_id'])]\n",
    "ratings = ratings[ratings['book_id'].isin(books['book_id'])]\n"
   ]
  },
  {
   "cell_type": "code",
   "execution_count": 10,
   "id": "f550904b",
   "metadata": {},
   "outputs": [],
   "source": [
    "# Now Counting the number of unique books based on 'book_id'\n",
    "unique_books_count = books['book_id'].nunique()"
   ]
  },
  {
   "cell_type": "code",
   "execution_count": 28,
   "id": "b3866bfd",
   "metadata": {},
   "outputs": [
    {
     "name": "stdout",
     "output_type": "stream",
     "text": [
      "The number of unique books after removing recording are : 363\n"
     ]
    }
   ],
   "source": [
    "# Printing the result\n",
    "print(f\"The number of unique books after removing recording are : {unique_books_count}\")"
   ]
  },
  {
   "cell_type": "markdown",
   "id": "1695ec1a",
   "metadata": {},
   "source": [
    "## Q3. How many unique users are present in the dataset [ratings.csv] ?"
   ]
  },
  {
   "cell_type": "code",
   "execution_count": 14,
   "id": "00afd716",
   "metadata": {},
   "outputs": [
    {
     "name": "stdout",
     "output_type": "stream",
     "text": [
      "The number of unique users in the dataset: 40573\n"
     ]
    }
   ],
   "source": [
    "# Counting the number of unique users in ratings.csv\n",
    "unique_users_count = ratings['user_id'].nunique()\n",
    "\n",
    "# Printing the result\n",
    "print(f\"The number of unique users in the dataset: {unique_users_count}\")"
   ]
  },
  {
   "cell_type": "markdown",
   "id": "b8fcc32f",
   "metadata": {},
   "source": [
    "## Q4. How many unique tags are there in the dataset [book_tags.csv] ?"
   ]
  },
  {
   "cell_type": "code",
   "execution_count": 35,
   "id": "1967c31d",
   "metadata": {},
   "outputs": [
    {
     "name": "stdout",
     "output_type": "stream",
     "text": [
      "The number of unique tags in the dataset: 100\n"
     ]
    }
   ],
   "source": [
    "# Counting the number of unique tags\n",
    "unique_tags_count = book_tags['tag_id'].nunique()\n",
    "\n",
    "# Printing the result\n",
    "print(f\"The number of unique tags in the dataset: {unique_tags_count}\")"
   ]
  },
  {
   "cell_type": "markdown",
   "id": "852714f3",
   "metadata": {},
   "source": [
    "## Q5. Which tag_id is the most frequently used ie. mapped with the highest number of books [book_tags.csv] ? (In case of more than one tag, mention the tag id with the least numerical value)’."
   ]
  },
  {
   "cell_type": "code",
   "execution_count": 36,
   "id": "a7a742e2",
   "metadata": {},
   "outputs": [
    {
     "name": "stdout",
     "output_type": "stream",
     "text": [
      "The number of frequently used tag in the dataset: 30574\n"
     ]
    }
   ],
   "source": [
    "# Counting the number of unique tags\n",
    "most_frequent_tag = book_tags['tag_id'].value_counts().idxmax()\n",
    "\n",
    "# Printing the result\n",
    "print(f\"The number of frequently used tag in the dataset: {most_frequent_tag}\")"
   ]
  },
  {
   "cell_type": "markdown",
   "id": "e1f84250",
   "metadata": {},
   "source": [
    "## Q6. Which book (title) has the most number of counts of tags given by the user [book_tags.csv,books.csv] ."
   ]
  },
  {
   "cell_type": "code",
   "execution_count": 37,
   "id": "68285054",
   "metadata": {},
   "outputs": [],
   "source": [
    "# First we need to Merge the datasets on 'goodreads_book_id'\n",
    "merged_data = pd.merge(book_tags, books, left_on='goodreads_book_id', right_on='book_id')"
   ]
  },
  {
   "cell_type": "code",
   "execution_count": 38,
   "id": "48aa4079",
   "metadata": {},
   "outputs": [
    {
     "name": "stdout",
     "output_type": "stream",
     "text": [
      "The book with the most number of counts of tags: Beyond Band of Brothers: The War Memoirs of Major Dick Winters\n"
     ]
    }
   ],
   "source": [
    "# Now Finding the book with the most number of counts of tags\n",
    "most_tags_book = merged_data.groupby('title').size().idxmax()\n",
    "\n",
    "# Printing the result\n",
    "print(f\"The book with the most number of counts of tags: {most_tags_book}\")"
   ]
  },
  {
   "cell_type": "markdown",
   "id": "53e11778",
   "metadata": {},
   "source": [
    "## Q7. Plot a bar chart with top 20 unique tags in descending order of ‘user records’ (the number of users tagged the given tag_id with the goodreads_book_id) [book_tags.csv]"
   ]
  },
  {
   "cell_type": "code",
   "execution_count": 21,
   "id": "77f172e4",
   "metadata": {},
   "outputs": [],
   "source": [
    "# First using the Group by to group 'tag_id' and 'goodreads_book_id' and count the number of users\n",
    "tag_user_counts = book_tags.groupby(['tag_id', 'goodreads_book_id']).size().reset_index(name='user_records')"
   ]
  },
  {
   "cell_type": "code",
   "execution_count": 22,
   "id": "6ae1c6b5",
   "metadata": {},
   "outputs": [],
   "source": [
    "# Now the Sum the user records for each tag_id\n",
    "top_tags = tag_user_counts.groupby('tag_id')['user_records'].sum().sort_values(ascending=False).head(20)"
   ]
  },
  {
   "cell_type": "code",
   "execution_count": 23,
   "id": "cae7c367",
   "metadata": {},
   "outputs": [
    {
     "data": {
      "image/png": "[encoded data removed]",
      "text/plain": [
       "<Figure size 1200x600 with 1 Axes>"
      ]
     },
     "metadata": {},
     "output_type": "display_data"
    }
   ],
   "source": [
    "# Now Ploting a bar chart with help of Matplotlib and SeaBorn\n",
    "plt.figure(figsize=(12, 6))\n",
    "sns.barplot(x=top_tags.index, y=top_tags.values, palette='viridis')\n",
    "plt.xlabel('Tag ID')\n",
    "plt.ylabel('Number of User Records')\n",
    "plt.title('Top 20 Tags in Descending Order of User Records')\n",
    "plt.xticks(rotation=45, ha='right')\n",
    "plt.show()"
   ]
  },
  {
   "cell_type": "code",
   "execution_count": null,
   "id": "c6a213a5",
   "metadata": {},
   "outputs": [],
   "source": []
  }
 ],
 "metadata": {
  "kernelspec": {
   "display_name": "Python 3 (ipykernel)",
   "language": "python",
   "name": "python3"
  },
  "language_info": {
   "codemirror_mode": {
    "name": "ipython",
    "version": 3
   },
   "file_extension": ".py",
   "mimetype": "text/x-python",
   "name": "python",
   "nbconvert_exporter": "python",
   "pygments_lexer": "ipython3",
   "version": "3.11.3"
  }
 },
 "nbformat": 4,
 "nbformat_minor": 5
}
